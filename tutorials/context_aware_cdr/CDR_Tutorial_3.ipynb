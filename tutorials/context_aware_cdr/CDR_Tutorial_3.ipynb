{
 "cells": [
  {
   "cell_type": "markdown",
   "metadata": {},
   "source": [
    "# Chemical-Disease Relation (CDR) Tutorial\n",
    "\n",
    "In this example, we'll be writing an application to extract *mentions of* **chemical-induced-disease relationships** from Pubmed abstracts, as per the [BioCreative CDR Challenge](http://www.biocreative.org/resources/corpora/biocreative-v-cdr-corpus/).  This tutorial will show off some of the more advanced features of Snorkel, so we'll assume you've followed the Intro tutorial."
   ]
  },
  {
   "cell_type": "markdown",
   "metadata": {},
   "source": [
    "Let's start by reloading from the last notebook."
   ]
  },
  {
   "cell_type": "code",
   "execution_count": 1,
   "metadata": {},
   "outputs": [],
   "source": [
    "%load_ext autoreload\n",
    "%autoreload 2\n",
    "%matplotlib inline\n",
    "\n",
    "import numpy as np\n",
    "from snorkel import SnorkelSession\n",
    "\n",
    "session = SnorkelSession()"
   ]
  },
  {
   "cell_type": "code",
   "execution_count": 2,
   "metadata": {},
   "outputs": [
    {
     "name": "stdout",
     "output_type": "stream",
     "text": [
      "Training set:\t8437 candidates\n",
      "Dev set:\t920 candidates\n",
      "Test set:\t4698 candidates\n"
     ]
    }
   ],
   "source": [
    "from snorkel.models import candidate_subclass\n",
    "\n",
    "ChemicalDisease = candidate_subclass('ChemicalDisease', ['chemical', 'disease'])\n",
    "\n",
    "train = session.query(ChemicalDisease).filter(ChemicalDisease.split == 0).all()\n",
    "dev = session.query(ChemicalDisease).filter(ChemicalDisease.split == 1).all()\n",
    "test = session.query(ChemicalDisease).filter(ChemicalDisease.split == 2).all()\n",
    "\n",
    "print('Training set:\\t{0} candidates'.format(len(train)))\n",
    "print('Dev set:\\t{0} candidates'.format(len(dev)))\n",
    "print('Test set:\\t{0} candidates'.format(len(test)))"
   ]
  },
  {
   "cell_type": "markdown",
   "metadata": {},
   "source": [
    "# Part V: Training an LSTM extraction model\n",
    "\n",
    "In the intro tutorial, we automatically featurized the candidates and trained a linear model over these features. Here, we'll train a more complicated model for relation extraction: an LSTM network. You can read more about LSTMs [here](https://en.wikipedia.org/wiki/Long_short-term_memory) or [here](http://colah.github.io/posts/2015-08-Understanding-LSTMs/). An LSTM is a type of recurrent neural network and automatically generates a numerical representation for the candidate based on the sentence text, so no need for featurizing explicitly as in the intro tutorial. LSTMs take longer to train, and Snorkel doesn't currently support hyperparameter searches for them. We'll train a single model here, but feel free to try out other parameter sets. Just make sure to use the development set - and not the test set - for model selection.\n",
    "\n",
    "**Note: Again, training for more epochs than below will greatly improve performance- try it out!**"
   ]
  },
  {
   "cell_type": "code",
   "execution_count": 3,
   "metadata": {},
   "outputs": [],
   "source": [
    "from snorkel.annotations import load_marginals\n",
    "train_marginals = load_marginals(session, split=0)"
   ]
  },
  {
   "cell_type": "code",
   "execution_count": 4,
   "metadata": {},
   "outputs": [],
   "source": [
    "from snorkel.annotations import load_gold_labels\n",
    "L_gold_dev = load_gold_labels(session, annotator_name='gold', split=1)"
   ]
  },
  {
   "cell_type": "code",
   "execution_count": 5,
   "metadata": {},
   "outputs": [
    {
     "name": "stdout",
     "output_type": "stream",
     "text": [
      "[LSTM] Training model\n",
      "[LSTM] n_train=2705  #epochs=100  batch size=64\n",
      "[LSTM] Epoch 1 (5.64s)\tAverage loss=0.673879\tDev F1=49.96\n",
      "[LSTM] Epoch 6 (35.53s)\tAverage loss=0.644199\tDev F1=50.52\n",
      "[LSTM] Epoch 11 (63.03s)\tAverage loss=0.638185\tDev F1=51.15\n",
      "[LSTM] Epoch 16 (90.12s)\tAverage loss=0.637319\tDev F1=55.31\n",
      "[LSTM] Epoch 21 (117.16s)\tAverage loss=0.633461\tDev F1=52.65\n",
      "[LSTM] Epoch 26 (143.96s)\tAverage loss=0.634923\tDev F1=51.65\n",
      "[LSTM] Epoch 31 (170.53s)\tAverage loss=0.633968\tDev F1=52.67\n",
      "[LSTM] Epoch 36 (197.35s)\tAverage loss=0.633124\tDev F1=51.94\n",
      "[LSTM] Epoch 41 (224.02s)\tAverage loss=0.632171\tDev F1=51.34\n",
      "[LSTM] Epoch 46 (250.53s)\tAverage loss=0.632254\tDev F1=51.38\n",
      "[LSTM] Epoch 51 (277.17s)\tAverage loss=0.631974\tDev F1=51.92\n",
      "[LSTM] Epoch 56 (303.73s)\tAverage loss=0.633372\tDev F1=51.18\n",
      "[LSTM] Epoch 61 (330.23s)\tAverage loss=0.633530\tDev F1=52.81\n",
      "[LSTM] Epoch 66 (356.74s)\tAverage loss=0.632895\tDev F1=52.33\n",
      "[LSTM] Epoch 71 (383.43s)\tAverage loss=0.637030\tDev F1=51.83\n",
      "[LSTM] Epoch 76 (409.85s)\tAverage loss=0.638664\tDev F1=51.89\n",
      "[LSTM] Epoch 81 (436.49s)\tAverage loss=0.635893\tDev F1=51.61\n",
      "[LSTM] Model saved as <LSTM>\n",
      "[LSTM] Epoch 86 (463.73s)\tAverage loss=0.636326\tDev F1=51.39\n",
      "[LSTM] Epoch 91 (491.11s)\tAverage loss=0.634730\tDev F1=53.10\n",
      "[LSTM] Model saved as <LSTM>\n",
      "[LSTM] Epoch 96 (517.62s)\tAverage loss=0.633552\tDev F1=51.27\n",
      "[LSTM] Epoch 100 (538.95s)\tAverage loss=0.635566\tDev F1=51.26\n",
      "[LSTM] Training done (539.67s)\n",
      "[LSTM] Loaded model <LSTM>\n"
     ]
    }
   ],
   "source": [
    "from snorkel.learning.pytorch import LSTM\n",
    "\n",
    "train_kwargs = {\n",
    "    'lr':              0.01,\n",
    "    'embedding_dim':   100,\n",
    "    'hidden_dim':      100,\n",
    "    'n_epochs':        100,\n",
    "    'dropout':         0.5,\n",
    "    'rebalance':       0.25,\n",
    "    'print_freq':      5,\n",
    "    'seed':            1701\n",
    "}\n",
    "\n",
    "lstm = LSTM(n_threads=None)\n",
    "lstm.train(train, train_marginals, X_dev=dev, Y_dev=L_gold_dev, **train_kwargs)"
   ]
  },
  {
   "cell_type": "markdown",
   "metadata": {},
   "source": [
    "### Scoring on the test set\n",
    "\n",
    "Finally, we'll evaluate our performance on the blind test set of 500 documents. We'll load labels similar to how we did for the development set, and use the `score` function of our extraction model to see how we did."
   ]
  },
  {
   "cell_type": "code",
   "execution_count": 6,
   "metadata": {},
   "outputs": [
    {
     "name": "stdout",
     "output_type": "stream",
     "text": [
      "AnnotatorLabels created: 4698\n"
     ]
    },
    {
     "data": {
      "text/plain": [
       "<4698x1 sparse matrix of type '<class 'numpy.int64'>'\n",
       "\twith 4698 stored elements in Compressed Sparse Row format>"
      ]
     },
     "execution_count": 6,
     "metadata": {},
     "output_type": "execute_result"
    }
   ],
   "source": [
    "from load_external_annotations import load_external_labels\n",
    "load_external_labels(session, ChemicalDisease, split=2, annotator='gold')\n",
    "L_gold_test = load_gold_labels(session, annotator_name='gold', split=2)\n",
    "L_gold_test"
   ]
  },
  {
   "cell_type": "code",
   "execution_count": 7,
   "metadata": {},
   "outputs": [
    {
     "data": {
      "text/plain": [
       "(0.366376969038566, 0.8875, 0.518646674356017)"
      ]
     },
     "execution_count": 7,
     "metadata": {},
     "output_type": "execute_result"
    }
   ],
   "source": [
    "lstm.score(test, L_gold_test)"
   ]
  },
  {
   "cell_type": "code",
   "execution_count": 8,
   "metadata": {},
   "outputs": [
    {
     "name": "stdout",
     "output_type": "stream",
     "text": [
      "========================================\n",
      "Scores (Un-adjusted)\n",
      "========================================\n",
      "Pos. class accuracy: 0.887\n",
      "Neg. class accuracy: 0.266\n",
      "Precision            0.366\n",
      "Recall               0.887\n",
      "F1                   0.519\n",
      "----------------------------------------\n",
      "TP: 1349 | FP: 2333 | TN: 845 | FN: 171\n",
      "========================================\n",
      "\n"
     ]
    }
   ],
   "source": [
    "tp, fp, tn, fn = lstm.error_analysis(session, test, L_gold_test, set_unlabeled_as_neg=False)"
   ]
  },
  {
   "cell_type": "code",
   "execution_count": 9,
   "metadata": {},
   "outputs": [
    {
     "name": "stdout",
     "output_type": "stream",
     "text": [
      "0\n",
      "0\n",
      "0\n",
      "0\n"
     ]
    }
   ],
   "source": [
    "for metric in [tp, fp, tn, fn]:\n",
    "    count = 0\n",
    "    for sample in metric:\n",
    "        if sample.chemical.sentence.position != sample.disease.sentence.position:\n",
    "            count += 1\n",
    "    print(str(count))"
   ]
  }
 ],
 "metadata": {
  "anaconda-cloud": {},
  "kernelspec": {
   "display_name": "Python 3",
   "language": "python",
   "name": "python3"
  },
  "language_info": {
   "codemirror_mode": {
    "name": "ipython",
    "version": 3
   },
   "file_extension": ".py",
   "mimetype": "text/x-python",
   "name": "python",
   "nbconvert_exporter": "python",
   "pygments_lexer": "ipython3",
   "version": "3.6.5"
  }
 },
 "nbformat": 4,
 "nbformat_minor": 1
}
