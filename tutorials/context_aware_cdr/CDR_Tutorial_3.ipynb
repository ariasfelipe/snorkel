{
 "cells": [
  {
   "cell_type": "markdown",
   "metadata": {},
   "source": [
    "# Chemical-Disease Relation (CDR) Tutorial\n",
    "\n",
    "In this example, we'll be writing an application to extract *mentions of* **chemical-induced-disease relationships** from Pubmed abstracts, as per the [BioCreative CDR Challenge](http://www.biocreative.org/resources/corpora/biocreative-v-cdr-corpus/).  This tutorial will show off some of the more advanced features of Snorkel, so we'll assume you've followed the Intro tutorial."
   ]
  },
  {
   "cell_type": "markdown",
   "metadata": {},
   "source": [
    "Let's start by reloading from the last notebook."
   ]
  },
  {
   "cell_type": "code",
   "execution_count": 1,
   "metadata": {},
   "outputs": [],
   "source": [
    "%load_ext autoreload\n",
    "%autoreload 2\n",
    "%matplotlib inline\n",
    "\n",
    "import numpy as np\n",
    "from snorkel import SnorkelSession\n",
    "\n",
    "session = SnorkelSession()"
   ]
  },
  {
   "cell_type": "code",
   "execution_count": 2,
   "metadata": {},
   "outputs": [
    {
     "name": "stdout",
     "output_type": "stream",
     "text": [
      "Training set:\t21305 candidates\n",
      "Dev set:\t2486 candidates\n",
      "Test set:\t11970 candidates\n"
     ]
    }
   ],
   "source": [
    "from snorkel.models import candidate_subclass\n",
    "\n",
    "ChemicalDisease = candidate_subclass('ChemicalDisease', ['chemical', 'disease'])\n",
    "\n",
    "train = session.query(ChemicalDisease).filter(ChemicalDisease.split == 0).all()\n",
    "dev = session.query(ChemicalDisease).filter(ChemicalDisease.split == 1).all()\n",
    "test = session.query(ChemicalDisease).filter(ChemicalDisease.split == 2).all()\n",
    "\n",
    "print('Training set:\\t{0} candidates'.format(len(train)))\n",
    "print('Dev set:\\t{0} candidates'.format(len(dev)))\n",
    "print('Test set:\\t{0} candidates'.format(len(test)))"
   ]
  },
  {
   "cell_type": "markdown",
   "metadata": {},
   "source": [
    "# Part V: Training an LSTM extraction model\n",
    "\n",
    "In the intro tutorial, we automatically featurized the candidates and trained a linear model over these features. Here, we'll train a more complicated model for relation extraction: an LSTM network. You can read more about LSTMs [here](https://en.wikipedia.org/wiki/Long_short-term_memory) or [here](http://colah.github.io/posts/2015-08-Understanding-LSTMs/). An LSTM is a type of recurrent neural network and automatically generates a numerical representation for the candidate based on the sentence text, so no need for featurizing explicitly as in the intro tutorial. LSTMs take longer to train, and Snorkel doesn't currently support hyperparameter searches for them. We'll train a single model here, but feel free to try out other parameter sets. Just make sure to use the development set - and not the test set - for model selection.\n",
    "\n",
    "**Note: Again, training for more epochs than below will greatly improve performance- try it out!**"
   ]
  },
  {
   "cell_type": "code",
   "execution_count": 3,
   "metadata": {},
   "outputs": [],
   "source": [
    "from snorkel.annotations import load_marginals\n",
    "train_marginals = load_marginals(session, split=0)"
   ]
  },
  {
   "cell_type": "code",
   "execution_count": 4,
   "metadata": {},
   "outputs": [
    {
     "data": {
      "text/plain": [
       "(21305,)"
      ]
     },
     "execution_count": 4,
     "metadata": {},
     "output_type": "execute_result"
    }
   ],
   "source": [
    "train_marginals.shape"
   ]
  },
  {
   "cell_type": "code",
   "execution_count": 4,
   "metadata": {},
   "outputs": [],
   "source": [
    "from snorkel.annotations import load_gold_labels\n",
    "L_gold_dev = load_gold_labels(session, annotator_name='gold', split=1)"
   ]
  },
  {
   "cell_type": "code",
   "execution_count": 6,
   "metadata": {},
   "outputs": [
    {
     "name": "stdout",
     "output_type": "stream",
     "text": [
      "[LSTM] Training model\n",
      "[LSTM] n_train=19611  #epochs=40  batch size=500\n",
      "[LSTM] Epoch 1 (558.89s)\tAverage loss=0.699204\tDev F1=29.34\n",
      "[LSTM] Epoch 40 (19322.77s)\tAverage loss=0.661443\tDev F1=47.50\n",
      "[LSTM] Model saved as <LSTM>\n",
      "[LSTM] Training done (19331.95s)\n",
      "[LSTM] Loaded model <LSTM>\n"
     ]
    }
   ],
   "source": [
    "from snorkel.learning.pytorch import LSTM\n",
    "# from tensorboardX import SummaryWriter\n",
    "# TBlogger = SummaryWriter('cdr_logs')\n",
    "train_kwargs = {\n",
    "    'lr':              0.001,\n",
    "    'embedding_dim':   500,\n",
    "    'hidden_dim':      500,\n",
    "    'n_epochs':        40,\n",
    "    'dropout':         0.2,\n",
    "    'rebalance':       False,\n",
    "    'print_freq':      40,\n",
    "    'seed':            1701,\n",
    "    'batch_size':      500\n",
    "}\n",
    "\n",
    "lstm = LSTM(n_threads=2)\n",
    "lstm.train(train, train_marginals, X_dev=dev, Y_dev=L_gold_dev, **train_kwargs)\n",
    "\n"
   ]
  },
  {
   "cell_type": "code",
   "execution_count": 5,
   "metadata": {},
   "outputs": [
    {
     "name": "stdout",
     "output_type": "stream",
     "text": [
      "[LSTM] Training model\n",
      "[LSTM] n_train=19626  #epochs=40  batch size=500\n",
      "[LSTM] Epoch 1 (476.48s)\tAverage loss=0.685440\tDev F1=47.01\n",
      "[LSTM] Epoch 40 (18945.12s)\tAverage loss=0.630835\tDev F1=48.55\n",
      "[LSTM] Model saved as <LSTM>\n",
      "[LSTM] Training done (18954.29s)\n",
      "[LSTM] Loaded model <LSTM>\n"
     ]
    }
   ],
   "source": [
    "from snorkel.learning.pytorch import LSTM\n",
    "# from tensorboardX import SummaryWriter\n",
    "# TBlogger = SummaryWriter('cdr_logs')\n",
    "train_kwargs = {\n",
    "    'lr':              0.001,\n",
    "    'embedding_dim':   500,\n",
    "    'hidden_dim':      500,\n",
    "    'n_epochs':        40,\n",
    "    'dropout':         0.2,\n",
    "    'rebalance':       False,\n",
    "    'print_freq':      40,\n",
    "    'seed':            1701,\n",
    "    'batch_size':      500\n",
    "}\n",
    "\n",
    "lstm = LSTM(n_threads=1)\n",
    "lstm.train(train, train_marginals, X_dev=dev, Y_dev=L_gold_dev, **train_kwargs)\n",
    "\n"
   ]
  },
  {
   "cell_type": "markdown",
   "metadata": {},
   "source": [
    "### Scoring on the test set\n",
    "\n",
    "Finally, we'll evaluate our performance on the blind test set of 500 documents. We'll load labels similar to how we did for the development set, and use the `score` function of our extraction model to see how we did."
   ]
  },
  {
   "cell_type": "code",
   "execution_count": 6,
   "metadata": {},
   "outputs": [
    {
     "name": "stdout",
     "output_type": "stream",
     "text": [
      "AnnotatorLabels created: 0\n",
      "========================================\n",
      "Scores (Un-adjusted)\n",
      "========================================\n",
      "Pos. class accuracy: 0.748\n",
      "Neg. class accuracy: 0.471\n",
      "Precision            0.375\n",
      "Recall               0.748\n",
      "F1                   0.499\n",
      "----------------------------------------\n",
      "TP: 2666 | FP: 4451 | TN: 3957 | FN: 896\n",
      "========================================\n",
      "\n",
      "{0: [2666, 4451, 3957, 896], 1: [1273, 1945, 1227, 237], 2: [1393, 2506, 2730, 659]}\n"
     ]
    }
   ],
   "source": [
    "from load_external_annotations import load_external_labels\n",
    "load_external_labels(session, ChemicalDisease, split=2, annotator='gold')\n",
    "L_gold_test = load_gold_labels(session, annotator_name='gold', split=2)\n",
    "lstm.score(test, L_gold_test)\n",
    "tp, fp, tn, fn = lstm.error_analysis(session, test, L_gold_test, set_unlabeled_as_neg=False)\n",
    "metrics = {}\n",
    "sent_lengths = set()\n",
    "metrics[0] = [0 for _ in range(4)]\n",
    "\n",
    "for i, metric in enumerate([tp, fp, tn, fn]):\n",
    "    for sample in metric:\n",
    "        metrics[0][i] += 1 \n",
    "        cand_length = int(abs(sample.chemical.sentence.position - sample.disease.sentence.position)+1)\n",
    "        if cand_length in sent_lengths:\n",
    "            metrics[cand_length][i] += 1 \n",
    "        else:\n",
    "            metrics[cand_length] = [0 for _ in range(4)]\n",
    "            metrics[cand_length][i] += 1 \n",
    "            sent_lengths.add(cand_length)\n",
    "print(metrics)"
   ]
  },
  {
   "cell_type": "code",
   "execution_count": 7,
   "metadata": {},
   "outputs": [
    {
     "name": "stdout",
     "output_type": "stream",
     "text": [
      "AnnotatorLabels created: 0\n"
     ]
    },
    {
     "data": {
      "text/plain": [
       "<11970x1 sparse matrix of type '<class 'numpy.int64'>'\n",
       "\twith 11970 stored elements in Compressed Sparse Row format>"
      ]
     },
     "execution_count": 7,
     "metadata": {},
     "output_type": "execute_result"
    }
   ],
   "source": [
    "from load_external_annotations import load_external_labels\n",
    "load_external_labels(session, ChemicalDisease, split=2, annotator='gold')\n",
    "L_gold_test = load_gold_labels(session, annotator_name='gold', split=2)\n",
    "L_gold_test"
   ]
  },
  {
   "cell_type": "code",
   "execution_count": 8,
   "metadata": {},
   "outputs": [
    {
     "data": {
      "text/plain": [
       "(0.38400265516096915, 0.6496350364963503, 0.48268669169795575)"
      ]
     },
     "execution_count": 8,
     "metadata": {},
     "output_type": "execute_result"
    }
   ],
   "source": [
    "lstm.score(test, L_gold_test)"
   ]
  },
  {
   "cell_type": "code",
   "execution_count": 9,
   "metadata": {},
   "outputs": [
    {
     "name": "stdout",
     "output_type": "stream",
     "text": [
      "========================================\n",
      "Scores (Un-adjusted)\n",
      "========================================\n",
      "Pos. class accuracy: 0.65\n",
      "Neg. class accuracy: 0.559\n",
      "Precision            0.384\n",
      "Recall               0.65\n",
      "F1                   0.483\n",
      "----------------------------------------\n",
      "TP: 2314 | FP: 3712 | TN: 4696 | FN: 1248\n",
      "========================================\n",
      "\n"
     ]
    }
   ],
   "source": [
    "tp, fp, tn, fn = lstm.error_analysis(session, test, L_gold_test, set_unlabeled_as_neg=False)"
   ]
  },
  {
   "cell_type": "code",
   "execution_count": 10,
   "metadata": {},
   "outputs": [],
   "source": [
    "metrics = {}\n",
    "sent_lengths = set()\n",
    "metrics[0] = [0 for _ in range(4)]\n",
    "\n",
    "for i, metric in enumerate([tp, fp, tn, fn]):\n",
    "    for sample in metric:\n",
    "        metrics[0][i] += 1 \n",
    "        cand_length = int(abs(sample.chemical.sentence.position - sample.disease.sentence.position)+1)\n",
    "        if cand_length in sent_lengths:\n",
    "            metrics[cand_length][i] += 1 \n",
    "        else:\n",
    "            metrics[cand_length] = [0 for _ in range(4)]\n",
    "            metrics[cand_length][i] += 1 \n",
    "            sent_lengths.add(cand_length)"
   ]
  },
  {
   "cell_type": "code",
   "execution_count": 11,
   "metadata": {},
   "outputs": [
    {
     "data": {
      "text/plain": [
       "{0: [2314, 3712, 4696, 1248],\n",
       " 2: [1142, 1987, 3249, 910],\n",
       " 1: [1172, 1725, 1447, 338]}"
      ]
     },
     "execution_count": 11,
     "metadata": {},
     "output_type": "execute_result"
    }
   ],
   "source": [
    "metrics"
   ]
  },
  {
   "cell_type": "code",
   "execution_count": 24,
   "metadata": {},
   "outputs": [],
   "source": [
    "from snorkel.learning.utils import GridSearch\n",
    "from snorkel.learning import RandomSearch\n",
    "\n",
    "\n",
    "param_ranges = {'lr': [1e-2, 1e-3, 1e-4, 1e-5], \n",
    "                'dropout': [0.0, 0.25, 0.5, 0.75],\n",
    "               }\n",
    "\n",
    "model_class_params = {}\n",
    "model_hyperparams = {\n",
    "    'embedding_dim':   100,\n",
    "    'hidden_dim':      100,\n",
    "    'n_epochs':        30,\n",
    "    'rebalance':       0.25,\n",
    "    'print_freq':      30,\n",
    "    'seed' : 1701\n",
    "}\n",
    "\n",
    "train_kwargs = {\n",
    "    'embedding_dim':   100,\n",
    "    'hidden_dim':      100,\n",
    "    'n_epochs':        30,\n",
    "    'rebalance':       0.25,\n",
    "    'print_freq':      30,\n",
    "}\n",
    "\n",
    "searcher = RandomSearch(lstm, param_ranges, train, Y_train=train_marginals,\n",
    "    model_class_params=model_class_params, model_hyperparams=model_hyperparams)"
   ]
  },
  {
   "cell_type": "code",
   "execution_count": 44,
   "metadata": {},
   "outputs": [
    {
     "name": "stdout",
     "output_type": "stream",
     "text": [
      "[LSTM] Training model\n",
      "[LSTM] n_train=13777  #epochs=120  batch size=200\n",
      "[LSTM] Epoch 1 (50.57s)\tAverage loss=0.687261\tDev F1=0.00\n",
      "[LSTM] Epoch 31 (1611.57s)\tAverage loss=0.615859\tDev F1=0.00\n",
      "[LSTM] Epoch 61 (3244.24s)\tAverage loss=0.613536\tDev F1=0.00\n",
      "[LSTM] Epoch 91 (5044.41s)\tAverage loss=0.613115\tDev F1=0.00\n",
      "[LSTM] Epoch 120 (6563.43s)\tAverage loss=0.612983\tDev F1=0.00\n",
      "[LSTM] Training done (6566.93s)\n",
      "AnnotatorLabels created: 0\n",
      "========================================\n",
      "Scores (Un-adjusted)\n",
      "========================================\n",
      "Pos. class accuracy: 0.639\n",
      "Neg. class accuracy: 0.549\n",
      "Precision            0.375\n",
      "Recall               0.639\n",
      "F1                   0.473\n",
      "----------------------------------------\n",
      "TP: 2277 | FP: 3789 | TN: 4619 | FN: 1285\n",
      "========================================\n",
      "\n",
      "{0: [2277, 3789, 4619, 1285], 2: [1122, 2069, 3167, 930], 1: [1155, 1720, 1452, 355]}\n"
     ]
    }
   ],
   "source": [
    "from snorkel.learning.pytorch import LSTM\n",
    "\n",
    "train_kwargs = {\n",
    "    'lr':              0.001,\n",
    "    'embedding_dim':   150,\n",
    "    'hidden_dim':      150,\n",
    "    'n_epochs':        120,\n",
    "    'dropout':         0.2,\n",
    "    'rebalance':       0.25,\n",
    "    'print_freq':      30,\n",
    "    'seed':            1701,\n",
    "    'batch_size':      200\n",
    "}\n",
    "\n",
    "lstm = LSTM(n_threads=2)\n",
    "lstm.train(train, train_marginals, X_dev=dev, Y_dev=L_gold_dev, **train_kwargs)\n",
    "\n",
    "from load_external_annotations import load_external_labels\n",
    "load_external_labels(session, ChemicalDisease, split=2, annotator='gold')\n",
    "L_gold_test = load_gold_labels(session, annotator_name='gold', split=2)\n",
    "\n",
    "lstm.score(test, L_gold_test)\n",
    "\n",
    "tp, fp, tn, fn = lstm.error_analysis(session, test, L_gold_test, set_unlabeled_as_neg=False)\n",
    "\n",
    "metrics = {}\n",
    "sent_lengths = set()\n",
    "metrics[0] = [0 for _ in range(4)]\n",
    "\n",
    "for i, metric in enumerate([tp, fp, tn, fn]):\n",
    "    for sample in metric:\n",
    "        metrics[0][i] += 1 \n",
    "        cand_length = int(abs(sample.chemical.sentence.position - sample.disease.sentence.position)+1)\n",
    "        if cand_length in sent_lengths:\n",
    "            metrics[cand_length][i] += 1 \n",
    "        else:\n",
    "            metrics[cand_length] = [0 for _ in range(4)]\n",
    "            metrics[cand_length][i] += 1 \n",
    "            sent_lengths.add(cand_length)\n",
    "\n",
    "print(metrics)"
   ]
  }
 ],
 "metadata": {
  "anaconda-cloud": {},
  "kernelspec": {
   "display_name": "Python 3",
   "language": "python",
   "name": "python3"
  },
  "language_info": {
   "codemirror_mode": {
    "name": "ipython",
    "version": 3
   },
   "file_extension": ".py",
   "mimetype": "text/x-python",
   "name": "python",
   "nbconvert_exporter": "python",
   "pygments_lexer": "ipython3",
   "version": "3.6.5"
  }
 },
 "nbformat": 4,
 "nbformat_minor": 1
}
