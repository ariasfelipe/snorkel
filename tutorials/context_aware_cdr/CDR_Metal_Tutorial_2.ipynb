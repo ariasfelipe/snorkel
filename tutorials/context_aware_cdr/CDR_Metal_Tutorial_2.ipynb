{
 "cells": [
  {
   "cell_type": "markdown",
   "metadata": {},
   "source": [
    "# Chemical-Disease Relation (CDR) Tutorial\n",
    "\n",
    "In this example, we'll be writing an application to extract *mentions of* **chemical-induced-disease relationships** from Pubmed abstracts, as per the [BioCreative CDR Challenge](http://www.biocreative.org/resources/corpora/biocreative-v-cdr-corpus/).  This tutorial will show off some of the more advanced features of Snorkel, so we'll assume you've followed the Intro tutorial."
   ]
  },
  {
   "cell_type": "markdown",
   "metadata": {},
   "source": [
    "Let's start by reloading from the last notebook."
   ]
  },
  {
   "cell_type": "code",
   "execution_count": 52,
   "metadata": {},
   "outputs": [
    {
     "name": "stdout",
     "output_type": "stream",
     "text": [
      "The autoreload extension is already loaded. To reload it, use:\n",
      "  %reload_ext autoreload\n"
     ]
    }
   ],
   "source": [
    "%load_ext autoreload\n",
    "%autoreload 2\n",
    "%matplotlib inline\n",
    "\n",
    "from snorkel import SnorkelSession\n",
    "\n",
    "session = SnorkelSession()"
   ]
  },
  {
   "cell_type": "code",
   "execution_count": null,
   "metadata": {},
   "outputs": [],
   "source": [
    "    "
   ]
  },
  {
   "cell_type": "code",
   "execution_count": 53,
   "metadata": {},
   "outputs": [],
   "source": [
    "from snorkel.models import candidate_subclass\n",
    "\n",
    "ChemicalDisease = candidate_subclass('ChemicalDisease', ['chemical', 'disease'])"
   ]
  },
  {
   "cell_type": "markdown",
   "metadata": {},
   "source": [
    "# Part III: Writing LFs\n",
    "\n",
    "This tutorial features some more advanced LFs than the intro tutorial, with more focus on distant supervision and dependencies between LFs."
   ]
  },
  {
   "cell_type": "markdown",
   "metadata": {},
   "source": [
    "### Distant supervision approaches"
   ]
  },
  {
   "cell_type": "markdown",
   "metadata": {},
   "source": [
    "We'll use the [Comparative Toxicogenomics Database](http://ctdbase.org/) (CTD) for distant supervision. The CTD lists chemical-condition entity pairs under three categories: therapy, marker, and unspecified. Therapy means the chemical treats the condition, marker means the chemical is typically present with the condition, and unspecified is...unspecified. We can write LFs based on these categories."
   ]
  },
  {
   "cell_type": "code",
   "execution_count": 54,
   "metadata": {},
   "outputs": [],
   "source": [
    "import bz2\n",
    "from six.moves.cPickle import load\n",
    "\n",
    "with bz2.BZ2File('data/ctd.pkl.bz2', 'rb') as ctd_f:\n",
    "    ctd_unspecified, ctd_therapy, ctd_marker = load(ctd_f)"
   ]
  },
  {
   "cell_type": "code",
   "execution_count": 55,
   "metadata": {},
   "outputs": [],
   "source": [
    "def cand_in_ctd_unspecified(c):\n",
    "    return 1 if c.get_cids() in ctd_unspecified else 0\n",
    "\n",
    "def cand_in_ctd_therapy(c):\n",
    "    return 1 if c.get_cids() in ctd_therapy else 0\n",
    "\n",
    "def cand_in_ctd_marker(c):\n",
    "    return 1 if c.get_cids() in ctd_marker else 0"
   ]
  },
  {
   "cell_type": "code",
   "execution_count": 56,
   "metadata": {},
   "outputs": [],
   "source": [
    "def LF_in_ctd_unspecified(c):\n",
    "    if -1 * cand_in_ctd_unspecified(c) == -1:\n",
    "        return 2\n",
    "    else:\n",
    "        return -1 * cand_in_ctd_unspecified(c)\n",
    "\n",
    "def LF_in_ctd_therapy(c):\n",
    "    if -1 * cand_in_ctd_therapy(c) == -1:\n",
    "        return 2\n",
    "    else:\n",
    "        return -1 * cand_in_ctd_therapy(c)\n",
    "\n",
    "def LF_in_ctd_marker(c):\n",
    "    return cand_in_ctd_marker(c)"
   ]
  },
  {
   "cell_type": "markdown",
   "metadata": {},
   "source": [
    "### Text pattern approaches\n",
    "\n",
    "Now we'll use some LF helpers to create LFs based on indicative text patterns. We came up with these rules by using the viewer to examine training candidates and noting frequent patterns."
   ]
  },
  {
   "cell_type": "code",
   "execution_count": 57,
   "metadata": {},
   "outputs": [],
   "source": [
    "import re\n",
    "from snorkel.lf_helpers import (\n",
    "    cross_context_get_tagged_text,\n",
    "    cross_context_rule_regex_search_tagged_text,\n",
    "    cross_context_rule_regex_search_btw_AB,\n",
    "    cross_context_rule_regex_search_btw_BA,\n",
    "    cross_context_rule_regex_search_before_A,\n",
    "    cross_context_rule_regex_search_before_B,\n",
    "    get_sentences,\n",
    "    get_dep_path\n",
    ")\n",
    "\n",
    "# List to parenthetical\n",
    "def ltp(x):\n",
    "    return '(' + '|'.join(x) + ')'\n",
    "\n",
    "def LF_induce(c):\n",
    "    return 1 if re.search(r'{{A}}.{0,20}induc.{0,20}{{B}}', cross_context_get_tagged_text(c, session), flags=re.I) else 0\n",
    "\n",
    "causal_past = ['induced', 'caused', 'due']\n",
    "def LF_d_induced_by_c(c):\n",
    "    r = cross_context_rule_regex_search_btw_BA(c, '.{0,50}' + ltp(causal_past) + '.{0,9}(by|to).{0,50}', 1, session)\n",
    "    if r == -1:\n",
    "        return 2\n",
    "    else:\n",
    "        return r\n",
    "def LF_d_induced_by_c_tight(c):\n",
    "    r = cross_context_rule_regex_search_btw_BA(c, '.{0,50}' + ltp(causal_past) + ' (by|to) ', 1, session)\n",
    "    if r == -1:\n",
    "        return 2\n",
    "    else:\n",
    "        return r\n",
    "def LF_induce_name(c):\n",
    "    return 1 if 'induc' in c.chemical.get_span().lower() else 0     \n",
    "\n",
    "causal = ['cause[sd]?', 'induce[sd]?', 'associated with']\n",
    "def LF_c_cause_d(c):\n",
    "    return 1 if (\n",
    "        re.search(r'{{A}}.{0,50} ' + ltp(causal) + '.{0,50}{{B}}', cross_context_get_tagged_text(c, session), re.I)\n",
    "        and not re.search('{{A}}.{0,50}(not|no).{0,20}' + ltp(causal) + '.{0,50}{{B}}', cross_context_get_tagged_text(c, session), re.I)\n",
    "    ) else 0\n",
    "\n",
    "treat = ['treat', 'effective', 'prevent', 'resistant', 'slow', 'promise', 'therap']\n",
    "\n",
    "def LF_d_treat_c(c):\n",
    "    r = cross_context_rule_regex_search_btw_BA(c, '.{0,50}' + ltp(treat) + '.{0,50}', -1, session)\n",
    "    if r == -1:\n",
    "        return 2\n",
    "    else:\n",
    "        return r\n",
    "def LF_c_treat_d(c):\n",
    "    r = cross_context_rule_regex_search_btw_AB(c, '.{0,50}' + ltp(treat) + '.{0,50}', -1, session)\n",
    "    if r == -1:\n",
    "        return 2\n",
    "    else:\n",
    "        return r\n",
    "def LF_treat_d(c):\n",
    "    r = cross_context_rule_regex_search_before_B(c, ltp(treat) + '.{0,50}', -1, session)\n",
    "    if r == -1:\n",
    "        return 2\n",
    "    else:\n",
    "        return r\n",
    "def LF_c_treat_d_wide(c):\n",
    "    r = cross_context_rule_regex_search_btw_AB(c, '.{0,200}' + ltp(treat) + '.{0,200}', -1, session)\n",
    "    if r == -1:\n",
    "        return 2\n",
    "    else:\n",
    "        return r\n",
    "def LF_c_d(c):\n",
    "    return 1 if ('{{A}} {{B}}' in cross_context_get_tagged_text(c, session)) else 0\n",
    "\n",
    "def LF_c_induced_d(c):\n",
    "    return 1 if (\n",
    "        ('{{A}} {{B}}' in cross_context_get_tagged_text(c, session)) and \n",
    "        (('-induc' in c[0].get_span().lower()) or ('-assoc' in c[0].get_span().lower()))\n",
    "        ) else 0\n",
    "\n",
    "def LF_improve_before_disease(c):\n",
    "    r = cross_context_rule_regex_search_before_B(c, 'improv.*', -1, session)\n",
    "    if r == -1:\n",
    "        return 2\n",
    "    else:\n",
    "        return r\n",
    "pat_terms = ['in a patient with ', 'in patients with']\n",
    "def LF_in_patient_with(c):\n",
    "    return 2 if re.search(ltp(pat_terms) + '{{B}}', cross_context_get_tagged_text(c, session), flags=re.I) else 0\n",
    "\n",
    "uncertain = ['combin', 'possible', 'unlikely']\n",
    "def LF_uncertain(c):\n",
    "    r = cross_context_rule_regex_search_before_A(c, ltp(uncertain) + '.*', -1, session)\n",
    "    if r == -1:\n",
    "        return 2\n",
    "    else:\n",
    "        return r\n",
    "def LF_induced_other(c):\n",
    "    r = cross_context_rule_regex_search_tagged_text(c, '{{A}}.{20,1000}-induced {{B}}', -1, session)\n",
    "    if r == -1:\n",
    "        return 2\n",
    "    else:\n",
    "        return r\n",
    "def LF_far_c_d(c):\n",
    "    r = cross_context_rule_regex_search_btw_AB(c, '.{100,5000}', -1, session)\n",
    "    if r == -1:\n",
    "        return 2\n",
    "    else:\n",
    "        return r\n",
    "def LF_far_d_c(c):\n",
    "    r = cross_context_rule_regex_search_btw_BA(c, '.{100,5000}', -1, session)\n",
    "    if r == -1:\n",
    "        return 2\n",
    "    else:\n",
    "        return r\n",
    "def LF_risk_d(c):\n",
    "    r = cross_context_rule_regex_search_before_B(c, 'risk of ', 1, session)\n",
    "    if r == -1:\n",
    "        return 2\n",
    "    else:\n",
    "        return r\n",
    "def LF_develop_d_following_c(c):\n",
    "    return 1 if re.search(r'develop.{0,25}{{B}}.{0,25}following.{0,25}{{A}}', cross_context_get_tagged_text(c, session), flags=re.I) else 0\n",
    "\n",
    "procedure, following = ['inject', 'administrat'], ['following']\n",
    "def LF_d_following_c(c):\n",
    "    return 1 if re.search('{{B}}.{0,50}' + ltp(following) + '.{0,20}{{A}}.{0,50}' + ltp(procedure), cross_context_get_tagged_text(c, session), flags=re.I) else 0\n",
    "\n",
    "def LF_measure(c):\n",
    "    return 2 if re.search('measur.{0,75}{{A}}', cross_context_get_tagged_text(c, session), flags=re.I) else 0\n",
    "\n",
    "def LF_level(c):\n",
    "    return 2 if re.search('{{A}}.{0,25} level', cross_context_get_tagged_text(c, session), flags=re.I) else 0\n",
    "\n",
    "def LF_neg_d(c):\n",
    "    return 2 if re.search('(none|not|no) .{0,25}{{B}}', cross_context_get_tagged_text(c, session), flags=re.I) else 0\n",
    "\n",
    "WEAK_PHRASES = ['none', 'although', 'was carried out', 'was conducted',\n",
    "                'seems', 'suggests', 'risk', 'implicated',\n",
    "               'the aim', 'to (investigate|assess|study)']\n",
    "\n",
    "WEAK_RGX = r'|'.join(WEAK_PHRASES)\n",
    "\n",
    "def LF_weak_assertions(c):\n",
    "    return 2 if re.search(WEAK_RGX, cross_context_get_tagged_text(c, session), flags=re.I) else 0"
   ]
  },
  {
   "cell_type": "markdown",
   "metadata": {},
   "source": [
    "### Composite LFs\n",
    "\n",
    "The following LFs take some of the strongest distant supervision and text pattern LFs, and combine them to form more specific LFs. These LFs introduce some obvious dependencies within the LF set, which we will model later."
   ]
  },
  {
   "cell_type": "code",
   "execution_count": 58,
   "metadata": {},
   "outputs": [],
   "source": [
    "def LF_ctd_marker_c_d(c):\n",
    "    return LF_c_d(c) * cand_in_ctd_marker(c)\n",
    "\n",
    "def LF_ctd_marker_induce(c):\n",
    "    return (LF_c_induced_d(c) or LF_d_induced_by_c_tight(c)) * cand_in_ctd_marker(c)\n",
    "\n",
    "def LF_ctd_therapy_treat(c):\n",
    "    return LF_c_treat_d_wide(c) * cand_in_ctd_therapy(c)\n",
    "\n",
    "def LF_ctd_unspecified_treat(c):\n",
    "    return LF_c_treat_d_wide(c) * cand_in_ctd_unspecified(c)\n",
    "\n",
    "def LF_ctd_unspecified_induce(c):\n",
    "    return (LF_c_induced_d(c) or LF_d_induced_by_c_tight(c)) * cand_in_ctd_unspecified(c)"
   ]
  },
  {
   "cell_type": "markdown",
   "metadata": {},
   "source": [
    "### Rules based on context hierarchy\n",
    "\n",
    "These last two rules will make use of the context hierarchy. The first checks if there is a chemical mention much closer to the candidate's disease mention than the candidate's chemical mention. The second does the analog for diseases."
   ]
  },
  {
   "cell_type": "code",
   "execution_count": 59,
   "metadata": {},
   "outputs": [],
   "source": [
    "pos_keywords = set(['treat', 'effective', 'prevent', 'resistant', 'slow', 'promise', 'therap',\n",
    "                  'cause', 'caused', 'induce', 'due', 'induced'])\n",
    "\n",
    "def LF_pos_keywords_in_dep_path(c):\n",
    "\n",
    "    path = get_dep_path(c, session)\n",
    "    words = set([word for (word, dep_type) in path])\n",
    "\n",
    "    if len(words.intersection(pos_keywords)) > 0:\n",
    "        return 1\n",
    "    else:\n",
    "        return 0"
   ]
  },
  {
   "cell_type": "markdown",
   "metadata": {},
   "source": [
    "### Running the LFs on the training set"
   ]
  },
  {
   "cell_type": "code",
   "execution_count": 60,
   "metadata": {},
   "outputs": [],
   "source": [
    "LFs = [\n",
    "    LF_pos_keywords_in_dep_path,\n",
    "    LF_c_cause_d,\n",
    "    LF_c_d,\n",
    "    LF_c_induced_d,\n",
    "    LF_c_treat_d,\n",
    "    LF_c_treat_d_wide,\n",
    "    LF_ctd_marker_c_d,\n",
    "    LF_ctd_marker_induce,\n",
    "    LF_ctd_therapy_treat,\n",
    "    LF_ctd_unspecified_treat,\n",
    "    LF_ctd_unspecified_induce,\n",
    "    LF_d_following_c,\n",
    "    LF_d_induced_by_c,\n",
    "    LF_d_induced_by_c_tight,\n",
    "    LF_d_treat_c,\n",
    "    LF_develop_d_following_c,\n",
    "    LF_far_c_d,\n",
    "    LF_far_d_c,\n",
    "    LF_improve_before_disease,\n",
    "    LF_in_ctd_therapy,\n",
    "    LF_in_ctd_marker,\n",
    "    LF_in_patient_with,\n",
    "    LF_induce,\n",
    "    LF_induce_name,\n",
    "    LF_induced_other,\n",
    "    LF_level,\n",
    "    LF_measure,\n",
    "    LF_neg_d,\n",
    "    LF_risk_d,\n",
    "    LF_treat_d,\n",
    "    LF_uncertain,\n",
    "    LF_weak_assertions,\n",
    "]"
   ]
  },
  {
   "cell_type": "code",
   "execution_count": 61,
   "metadata": {},
   "outputs": [],
   "source": [
    "from snorkel.annotations import LabelAnnotator\n",
    "labeler = LabelAnnotator(lfs=LFs)"
   ]
  },
  {
   "cell_type": "code",
   "execution_count": 62,
   "metadata": {},
   "outputs": [
    {
     "name": "stderr",
     "output_type": "stream",
     "text": [
      "\r",
      "  0%|          | 0/21283 [00:00<?, ?it/s]"
     ]
    },
    {
     "name": "stdout",
     "output_type": "stream",
     "text": [
      "Clearing existing...\n",
      "Running UDF...\n"
     ]
    },
    {
     "name": "stderr",
     "output_type": "stream",
     "text": [
      "100%|██████████| 21283/21283 [02:11<00:00, 161.40it/s]\n"
     ]
    }
   ],
   "source": [
    "L_train = labeler.apply(split = 0)"
   ]
  },
  {
   "cell_type": "code",
   "execution_count": 69,
   "metadata": {},
   "outputs": [
    {
     "data": {
      "text/plain": [
       "[(9, 25),\n",
       " (1, 19),\n",
       " (26, 30),\n",
       " (6, 7),\n",
       " (14, 31),\n",
       " (19, 21),\n",
       " (8, 9),\n",
       " (29, 31),\n",
       " (21, 25),\n",
       " (1, 30),\n",
       " (14, 24),\n",
       " (3, 14),\n",
       " (4, 25),\n",
       " (9, 23),\n",
       " (21, 28),\n",
       " (1, 25),\n",
       " (14, 21),\n",
       " (11, 23),\n",
       " (16, 29),\n",
       " (4, 30),\n",
       " (9, 18),\n",
       " (21, 31),\n",
       " (1, 4),\n",
       " (11, 18),\n",
       " (16, 26),\n",
       " (3, 8),\n",
       " (4, 19),\n",
       " (0, 22),\n",
       " (25, 29),\n",
       " (10, 12),\n",
       " (14, 19),\n",
       " (11, 17),\n",
       " (3, 7),\n",
       " (8, 29),\n",
       " (4, 16),\n",
       " (18, 23),\n",
       " (11, 28),\n",
       " (28, 31),\n",
       " (8, 26),\n",
       " (4, 21),\n",
       " (25, 27),\n",
       " (18, 24),\n",
       " (11, 27),\n",
       " (8, 23),\n",
       " (1, 8),\n",
       " (18, 29),\n",
       " (23, 27),\n",
       " (3, 28),\n",
       " (1, 11),\n",
       " (18, 30),\n",
       " (23, 30),\n",
       " (3, 27),\n",
       " (8, 17),\n",
       " (9, 14),\n",
       " (2, 23),\n",
       " (23, 29),\n",
       " (15, 27),\n",
       " (24, 30),\n",
       " (17, 23),\n",
       " (27, 31),\n",
       " (3, 21),\n",
       " (15, 30),\n",
       " (24, 27),\n",
       " (0, 1),\n",
       " (17, 18),\n",
       " (5, 25),\n",
       " (3, 16),\n",
       " (15, 29),\n",
       " (17, 29),\n",
       " (4, 9),\n",
       " (5, 28),\n",
       " (15, 16),\n",
       " (4, 14),\n",
       " (2, 3),\n",
       " (19, 26),\n",
       " (15, 23),\n",
       " (26, 29),\n",
       " (17, 27),\n",
       " (9, 29),\n",
       " (5, 18),\n",
       " (19, 25),\n",
       " (16, 23),\n",
       " (5, 21),\n",
       " (1, 18),\n",
       " (26, 31),\n",
       " (14, 28),\n",
       " (4, 5),\n",
       " (9, 27),\n",
       " (21, 24),\n",
       " (1, 29),\n",
       " (29, 30),\n",
       " (2, 10),\n",
       " (14, 25),\n",
       " (4, 26),\n",
       " (21, 27),\n",
       " (1, 24),\n",
       " (14, 26),\n",
       " (16, 30),\n",
       " (4, 31),\n",
       " (21, 30),\n",
       " (1, 27),\n",
       " (14, 23),\n",
       " (11, 21),\n",
       " (16, 27),\n",
       " (3, 11),\n",
       " (4, 28),\n",
       " (25, 28),\n",
       " (18, 19),\n",
       " (10, 13),\n",
       " (14, 16),\n",
       " (11, 16),\n",
       " (3, 6),\n",
       " (8, 30),\n",
       " (4, 17),\n",
       " (0, 20),\n",
       " (25, 31),\n",
       " (11, 31),\n",
       " (3, 5),\n",
       " (8, 27),\n",
       " (25, 26),\n",
       " (21, 23),\n",
       " (18, 25),\n",
       " (11, 26),\n",
       " (28, 29),\n",
       " (8, 24),\n",
       " (1, 15),\n",
       " (18, 26),\n",
       " (11, 25),\n",
       " (23, 26),\n",
       " (3, 31),\n",
       " (8, 21),\n",
       " (18, 31),\n",
       " (5, 15),\n",
       " (23, 25),\n",
       " (3, 26),\n",
       " (8, 18),\n",
       " (3, 25),\n",
       " (15, 26),\n",
       " (27, 30),\n",
       " (15, 25),\n",
       " (24, 28),\n",
       " (9, 11),\n",
       " (27, 29),\n",
       " (3, 19),\n",
       " (15, 28),\n",
       " (24, 25),\n",
       " (17, 28),\n",
       " (5, 27),\n",
       " (19, 30),\n",
       " (15, 19),\n",
       " (0, 12),\n",
       " (4, 15),\n",
       " (5, 30),\n",
       " (19, 29),\n",
       " (17, 26),\n",
       " (9, 28),\n",
       " (1, 22),\n",
       " (26, 27),\n",
       " (7, 13),\n",
       " (15, 21),\n",
       " (8, 14),\n",
       " (1, 17),\n",
       " (26, 28),\n",
       " (2, 6),\n",
       " (14, 29),\n",
       " (11, 15),\n",
       " (16, 21),\n",
       " (19, 23),\n",
       " (8, 11),\n",
       " (9, 26),\n",
       " (5, 23),\n",
       " (14, 30),\n",
       " (7, 23),\n",
       " (16, 18),\n",
       " (4, 27),\n",
       " (9, 21),\n",
       " (21, 26),\n",
       " (1, 31),\n",
       " (14, 27),\n",
       " (3, 15),\n",
       " (4, 24),\n",
       " (21, 29),\n",
       " (1, 26),\n",
       " (16, 28),\n",
       " (3, 10),\n",
       " (4, 29),\n",
       " (1, 5),\n",
       " (14, 17),\n",
       " (11, 19),\n",
       " (16, 25),\n",
       " (3, 9),\n",
       " (8, 31),\n",
       " (4, 18),\n",
       " (25, 30),\n",
       " (18, 21),\n",
       " (6, 10),\n",
       " (11, 30),\n",
       " (14, 18),\n",
       " (3, 4),\n",
       " (8, 28),\n",
       " (4, 23),\n",
       " (5, 8),\n",
       " (6, 23),\n",
       " (11, 29),\n",
       " (14, 15),\n",
       " (28, 30),\n",
       " (8, 25),\n",
       " (1, 14),\n",
       " (5, 11),\n",
       " (18, 27),\n",
       " (11, 24),\n",
       " (3, 30),\n",
       " (1, 9),\n",
       " (5, 14),\n",
       " (18, 28),\n",
       " (23, 24),\n",
       " (3, 29),\n",
       " (8, 19),\n",
       " (23, 31),\n",
       " (3, 24),\n",
       " (8, 16),\n",
       " (17, 21),\n",
       " (9, 15),\n",
       " (3, 23),\n",
       " (15, 24),\n",
       " (24, 29),\n",
       " (27, 28),\n",
       " (3, 18),\n",
       " (15, 31),\n",
       " (12, 13),\n",
       " (24, 26),\n",
       " (4, 11),\n",
       " (5, 26),\n",
       " (30, 31),\n",
       " (3, 17),\n",
       " (7, 10),\n",
       " (15, 18),\n",
       " (0, 13),\n",
       " (4, 8),\n",
       " (17, 30),\n",
       " (5, 29),\n",
       " (10, 23),\n",
       " (19, 28),\n",
       " (15, 17),\n",
       " (17, 25),\n",
       " (1, 21),\n",
       " (19, 27),\n",
       " (7, 12),\n",
       " (8, 15),\n",
       " (9, 30),\n",
       " (1, 16),\n",
       " (2, 7),\n",
       " (11, 14)]"
      ]
     },
     "execution_count": 69,
     "metadata": {},
     "output_type": "execute_result"
    }
   ],
   "source": [
    "from snorkel.learning.structure import DependencySelector\n",
    "ds = DependencySelector()\n",
    "deps = ds.select(L_train, threshold=0.1)\n",
    "dep_tups = [(x,y) for x,y,z in deps]\n",
    "dep_tups"
   ]
  },
  {
   "cell_type": "code",
   "execution_count": 70,
   "metadata": {},
   "outputs": [
    {
     "data": {
      "text/plain": [
       "253"
      ]
     },
     "execution_count": 70,
     "metadata": {},
     "output_type": "execute_result"
    }
   ],
   "source": [
    "len(dep_tups)"
   ]
  },
  {
   "cell_type": "code",
   "execution_count": 13,
   "metadata": {},
   "outputs": [],
   "source": [
    "# from metal.analysis import lf_summary\n",
    "# lf_summary(L_train)"
   ]
  },
  {
   "cell_type": "code",
   "execution_count": 14,
   "metadata": {},
   "outputs": [],
   "source": [
    "# import os\n",
    "# from metal.analysis import view_label_matrix, view_overlaps\n",
    "\n",
    "# # This if statement and others like it are for our continuous integration tests; you can ignore them.\n",
    "# if 'CI' not in os.environ:\n",
    "#     view_label_matrix(L_train)"
   ]
  },
  {
   "cell_type": "code",
   "execution_count": 66,
   "metadata": {},
   "outputs": [],
   "source": [
    "from metal.label_model import LabelModel\n",
    "label_model = LabelModel(k=2, seed=123)"
   ]
  },
  {
   "cell_type": "code",
   "execution_count": 71,
   "metadata": {},
   "outputs": [
    {
     "name": "stdout",
     "output_type": "stream",
     "text": [
      "AnnotatorLabels created: 0\n"
     ]
    },
    {
     "ename": "NotImplementedError",
     "evalue": "Graph triangulation not implemented.",
     "output_type": "error",
     "traceback": [
      "\u001b[0;31m---------------------------------------------------------------------------\u001b[0m",
      "\u001b[0;31mNotImplementedError\u001b[0m                       Traceback (most recent call last)",
      "\u001b[0;32m<ipython-input-71-e6f497f2e4d4>\u001b[0m in \u001b[0;36m<module>\u001b[0;34m()\u001b[0m\n\u001b[1;32m     15\u001b[0m     \u001b[0my_dev\u001b[0m \u001b[0;34m=\u001b[0m \u001b[0mnp\u001b[0m\u001b[0;34m.\u001b[0m\u001b[0masarray\u001b[0m\u001b[0;34m(\u001b[0m\u001b[0ml\u001b[0m\u001b[0;34m)\u001b[0m\u001b[0;34m\u001b[0m\u001b[0m\n\u001b[1;32m     16\u001b[0m \u001b[0;34m\u001b[0m\u001b[0m\n\u001b[0;32m---> 17\u001b[0;31m     \u001b[0mlabel_model\u001b[0m\u001b[0;34m.\u001b[0m\u001b[0mtrain\u001b[0m\u001b[0;34m(\u001b[0m\u001b[0mL_train\u001b[0m\u001b[0;34m,\u001b[0m \u001b[0mY_dev\u001b[0m\u001b[0;34m=\u001b[0m\u001b[0my_dev\u001b[0m\u001b[0;34m,\u001b[0m \u001b[0mdeps\u001b[0m\u001b[0;34m=\u001b[0m\u001b[0mdep_tups\u001b[0m\u001b[0;34m,\u001b[0m \u001b[0mn_epochs\u001b[0m\u001b[0;34m=\u001b[0m\u001b[0;36m600\u001b[0m\u001b[0;34m,\u001b[0m \u001b[0mprint_every\u001b[0m\u001b[0;34m=\u001b[0m\u001b[0;36m50\u001b[0m\u001b[0;34m)\u001b[0m\u001b[0;34m\u001b[0m\u001b[0m\n\u001b[0m\u001b[1;32m     18\u001b[0m \u001b[0;32melse\u001b[0m\u001b[0;34m:\u001b[0m\u001b[0;34m\u001b[0m\u001b[0m\n\u001b[1;32m     19\u001b[0m     \u001b[0mlabel_model\u001b[0m\u001b[0;34m.\u001b[0m\u001b[0mtrain\u001b[0m\u001b[0;34m(\u001b[0m\u001b[0mL_train\u001b[0m\u001b[0;34m,\u001b[0m \u001b[0mn_epochs\u001b[0m\u001b[0;34m=\u001b[0m\u001b[0;36m600\u001b[0m\u001b[0;34m,\u001b[0m \u001b[0mprint_every\u001b[0m\u001b[0;34m=\u001b[0m\u001b[0;36m50\u001b[0m\u001b[0;34m)\u001b[0m\u001b[0;34m\u001b[0m\u001b[0m\n",
      "\u001b[0;32m~/Projects/metal/metal/label_model/label_model.py\u001b[0m in \u001b[0;36mtrain\u001b[0;34m(self, L_train, Y_dev, deps, class_balance, **kwargs)\u001b[0m\n\u001b[1;32m    360\u001b[0m         \u001b[0mself\u001b[0m\u001b[0;34m.\u001b[0m\u001b[0m_set_class_balance\u001b[0m\u001b[0;34m(\u001b[0m\u001b[0mclass_balance\u001b[0m\u001b[0;34m,\u001b[0m \u001b[0mY_dev\u001b[0m\u001b[0;34m)\u001b[0m\u001b[0;34m\u001b[0m\u001b[0m\n\u001b[1;32m    361\u001b[0m         \u001b[0mself\u001b[0m\u001b[0;34m.\u001b[0m\u001b[0m_set_constants\u001b[0m\u001b[0;34m(\u001b[0m\u001b[0mL_train\u001b[0m\u001b[0;34m)\u001b[0m\u001b[0;34m\u001b[0m\u001b[0m\n\u001b[0;32m--> 362\u001b[0;31m         \u001b[0mself\u001b[0m\u001b[0;34m.\u001b[0m\u001b[0m_set_dependencies\u001b[0m\u001b[0;34m(\u001b[0m\u001b[0mdeps\u001b[0m\u001b[0;34m)\u001b[0m\u001b[0;34m\u001b[0m\u001b[0m\n\u001b[0m\u001b[1;32m    363\u001b[0m         \u001b[0mself\u001b[0m\u001b[0;34m.\u001b[0m\u001b[0m_check_L\u001b[0m\u001b[0;34m(\u001b[0m\u001b[0mL_train\u001b[0m\u001b[0;34m)\u001b[0m\u001b[0;34m\u001b[0m\u001b[0m\n\u001b[1;32m    364\u001b[0m \u001b[0;34m\u001b[0m\u001b[0m\n",
      "\u001b[0;32m~/Projects/metal/metal/label_model/label_model.py\u001b[0m in \u001b[0;36m_set_dependencies\u001b[0;34m(self, deps)\u001b[0m\n\u001b[1;32m    325\u001b[0m         \u001b[0mnodes\u001b[0m \u001b[0;34m=\u001b[0m \u001b[0mrange\u001b[0m\u001b[0;34m(\u001b[0m\u001b[0mself\u001b[0m\u001b[0;34m.\u001b[0m\u001b[0mm\u001b[0m\u001b[0;34m)\u001b[0m\u001b[0;34m\u001b[0m\u001b[0m\n\u001b[1;32m    326\u001b[0m         \u001b[0mself\u001b[0m\u001b[0;34m.\u001b[0m\u001b[0mdeps\u001b[0m \u001b[0;34m=\u001b[0m \u001b[0mdeps\u001b[0m\u001b[0;34m\u001b[0m\u001b[0m\n\u001b[0;32m--> 327\u001b[0;31m         \u001b[0mself\u001b[0m\u001b[0;34m.\u001b[0m\u001b[0mc_tree\u001b[0m \u001b[0;34m=\u001b[0m \u001b[0mget_clique_tree\u001b[0m\u001b[0;34m(\u001b[0m\u001b[0mnodes\u001b[0m\u001b[0;34m,\u001b[0m \u001b[0mdeps\u001b[0m\u001b[0;34m)\u001b[0m\u001b[0;34m\u001b[0m\u001b[0m\n\u001b[0m\u001b[1;32m    328\u001b[0m \u001b[0;34m\u001b[0m\u001b[0m\n\u001b[1;32m    329\u001b[0m     \u001b[0;32mdef\u001b[0m \u001b[0mtrain\u001b[0m\u001b[0;34m(\u001b[0m\u001b[0mself\u001b[0m\u001b[0;34m,\u001b[0m \u001b[0mL_train\u001b[0m\u001b[0;34m,\u001b[0m \u001b[0mY_dev\u001b[0m\u001b[0;34m=\u001b[0m\u001b[0;32mNone\u001b[0m\u001b[0;34m,\u001b[0m \u001b[0mdeps\u001b[0m\u001b[0;34m=\u001b[0m\u001b[0;34m[\u001b[0m\u001b[0;34m]\u001b[0m\u001b[0;34m,\u001b[0m \u001b[0mclass_balance\u001b[0m\u001b[0;34m=\u001b[0m\u001b[0;32mNone\u001b[0m\u001b[0;34m,\u001b[0m \u001b[0;34m**\u001b[0m\u001b[0mkwargs\u001b[0m\u001b[0;34m)\u001b[0m\u001b[0;34m:\u001b[0m\u001b[0;34m\u001b[0m\u001b[0m\n",
      "\u001b[0;32m~/Projects/metal/metal/label_model/graph_utils.py\u001b[0m in \u001b[0;36mget_clique_tree\u001b[0;34m(nodes, edges)\u001b[0m\n\u001b[1;32m     21\u001b[0m     \u001b[0;31m# TODO: Add step to triangulate graph if not\u001b[0m\u001b[0;34m\u001b[0m\u001b[0;34m\u001b[0m\u001b[0m\n\u001b[1;32m     22\u001b[0m     \u001b[0;32mif\u001b[0m \u001b[0;32mnot\u001b[0m \u001b[0mnx\u001b[0m\u001b[0;34m.\u001b[0m\u001b[0mis_chordal\u001b[0m\u001b[0;34m(\u001b[0m\u001b[0mG1\u001b[0m\u001b[0;34m)\u001b[0m\u001b[0;34m:\u001b[0m\u001b[0;34m\u001b[0m\u001b[0m\n\u001b[0;32m---> 23\u001b[0;31m         \u001b[0;32mraise\u001b[0m \u001b[0mNotImplementedError\u001b[0m\u001b[0;34m(\u001b[0m\u001b[0;34m\"Graph triangulation not implemented.\"\u001b[0m\u001b[0;34m)\u001b[0m\u001b[0;34m\u001b[0m\u001b[0m\n\u001b[0m\u001b[1;32m     24\u001b[0m \u001b[0;34m\u001b[0m\u001b[0m\n\u001b[1;32m     25\u001b[0m     \u001b[0;31m# Create maximal clique graph G2\u001b[0m\u001b[0;34m\u001b[0m\u001b[0;34m\u001b[0m\u001b[0m\n",
      "\u001b[0;31mNotImplementedError\u001b[0m: Graph triangulation not implemented."
     ]
    }
   ],
   "source": [
    "from snorkel.annotations import load_gold_labels_array\n",
    "from load_external_annotations import load_external_labels\n",
    "\n",
    "USE_DEV_BALANCE = True\n",
    "if USE_DEV_BALANCE:\n",
    "    load_external_labels(session, ChemicalDisease, split=1, annotator='gold')\n",
    "    L_gold_dev = load_gold_labels_array(session, annotator_name='gold', split=1)\n",
    "\n",
    "    l = []\n",
    "    for i in L_gold_dev:\n",
    "        if i == -1:\n",
    "            l.append(2)\n",
    "        else:\n",
    "            l.append(i)\n",
    "    y_dev = np.asarray(l)\n",
    "\n",
    "    label_model.train(L_train, Y_dev=y_dev, deps=dep_tups, n_epochs=600, print_every=50)\n",
    "else:\n",
    "    label_model.train(L_train, n_epochs=600, print_every=50)\n",
    "  "
   ]
  },
  {
   "cell_type": "code",
   "execution_count": 50,
   "metadata": {},
   "outputs": [
    {
     "name": "stderr",
     "output_type": "stream",
     "text": [
      "  0%|          | 17/4685 [00:00<00:27, 169.45it/s]"
     ]
    },
    {
     "name": "stdout",
     "output_type": "stream",
     "text": [
      "AnnotatorLabels created: 0\n",
      "Clearing existing...\n",
      "Running UDF...\n"
     ]
    },
    {
     "name": "stderr",
     "output_type": "stream",
     "text": [
      "100%|██████████| 4685/4685 [00:23<00:00, 200.71it/s]\n"
     ]
    },
    {
     "name": "stdout",
     "output_type": "stream",
     "text": [
      "Accuracy: 0.722\n",
      "Precision: 0.604\n",
      "Recall: 0.401\n",
      "F1: 0.482\n",
      "        y=1    y=2   \n",
      " l=1    607    905   \n",
      " l=2    398   2775   \n",
      "[[ 607  905]\n",
      " [ 398 2775]]\n"
     ]
    }
   ],
   "source": [
    "import numpy as np\n",
    "from metal.analysis import confusion_matrix\n",
    "\n",
    "EVAL_SPLIT = 2\n",
    "load_external_labels(session, ChemicalDisease, split=EVAL_SPLIT, annotator='gold')\n",
    "L_gold_eval = load_gold_labels_array(session, annotator_name='gold', split=EVAL_SPLIT)\n",
    "\n",
    "l = []\n",
    "for i in L_gold_eval:\n",
    "    if i == -1:\n",
    "        l.append(2)\n",
    "    else:\n",
    "        l.append(i)\n",
    "y_eval = np.asarray(l)\n",
    "L_eval = labeler.apply(split=EVAL_SPLIT)\n",
    "\n",
    "score = label_model.score(L_eval, y_eval)\n",
    "scores = label_model.score(L_eval, y_eval, metric=['precision', 'recall', 'f1'])\n",
    "\n",
    "Y_eval_p = label_model.predict(L_eval)\n",
    "cm = confusion_matrix(y_eval, Y_eval_p)\n",
    "print(cm)"
   ]
  },
  {
   "cell_type": "code",
   "execution_count": 51,
   "metadata": {},
   "outputs": [
    {
     "name": "stdout",
     "output_type": "stream",
     "text": [
      "Precision: 0.494\n",
      "Recall: 0.779\n",
      "F1: 0.605\n",
      "        y=1    y=2   \n",
      " l=1   1188    324   \n",
      " l=2   1247   1926   \n",
      "[[1188  324]\n",
      " [1247 1926]]\n"
     ]
    }
   ],
   "source": [
    "from metal.label_model.baselines import MajorityLabelVoter\n",
    "\n",
    "mv = MajorityLabelVoter(seed=123)\n",
    "scores = mv.score(L_eval, y_eval, metric=['precision', 'recall', 'f1'])\n",
    "Y_eval_p = mv.predict(L_eval)\n",
    "cm = confusion_matrix(y_eval, Y_eval_p)\n",
    "print(cm)"
   ]
  },
  {
   "cell_type": "markdown",
   "metadata": {},
   "source": [
    "# Part IV: Training the generative model\n",
    "\n",
    "As mentioned above, we want to include the dependencies between our LFs when training the generative model. Snorkel makes it easy to do this! `DependencySelector` runs a fast structure learning algorithm over the matrix of LF outputs to identify a set of likely dependencies. We can see that these match up with our prior knowledge. For example, it identified a \"reinforcing\" dependency between `LF_c_induced_d` and `LF_ctd_marker_induce`. Recall that we constructed the latter using the former."
   ]
  },
  {
   "cell_type": "markdown",
   "metadata": {},
   "source": [
    "Now we'll train the generative model, using the `deps` argument to account for the learned dependencies. We'll also model LF propensity here, unlike the intro tutorial. In addition to learning the accuracies of the LFs, this also learns their likelihood of labeling an example."
   ]
  },
  {
   "cell_type": "code",
   "execution_count": 19,
   "metadata": {},
   "outputs": [],
   "source": [
    "probs = label_model.predict_proba(L_train)"
   ]
  },
  {
   "cell_type": "code",
   "execution_count": 20,
   "metadata": {},
   "outputs": [
    {
     "data": {
      "text/plain": [
       "array([[0.42275871, 0.57724129],\n",
       "       [0.42275871, 0.57724129],\n",
       "       [0.42275871, 0.57724129],\n",
       "       ...,\n",
       "       [0.16736742, 0.83263258],\n",
       "       [0.16736742, 0.83263258],\n",
       "       [0.58740038, 0.41259962]])"
      ]
     },
     "execution_count": 20,
     "metadata": {},
     "output_type": "execute_result"
    }
   ],
   "source": [
    "probs"
   ]
  },
  {
   "cell_type": "code",
   "execution_count": 21,
   "metadata": {},
   "outputs": [],
   "source": [
    "# from snorkel.annotations import save_marginals\n",
    "# save_marginals(session, L_train, train_marginals)"
   ]
  },
  {
   "cell_type": "markdown",
   "metadata": {},
   "source": [
    "### Checking performance against development set labels\n",
    "\n",
    "Finally, we'll run the labeler on the development set, load in some external labels, then evaluate the LF performance. The external labels are applied via a small script for convenience. It maps the document-level relation annotations found in the CDR file to mention-level labels. Note that these will not be perfect, although they are pretty good. If we wanted to keep iterating, we could use `snorkel.lf_helpers.test_LF` against the dev set, or look at some false positive and false negative candidates."
   ]
  }
 ],
 "metadata": {
  "anaconda-cloud": {},
  "kernelspec": {
   "display_name": "Python 3",
   "language": "python",
   "name": "python3"
  },
  "language_info": {
   "codemirror_mode": {
    "name": "ipython",
    "version": 3
   },
   "file_extension": ".py",
   "mimetype": "text/x-python",
   "name": "python",
   "nbconvert_exporter": "python",
   "pygments_lexer": "ipython3",
   "version": "3.6.5"
  }
 },
 "nbformat": 4,
 "nbformat_minor": 1
}
