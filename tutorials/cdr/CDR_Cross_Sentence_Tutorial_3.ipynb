{
 "cells": [
  {
   "cell_type": "markdown",
   "metadata": {},
   "source": [
    "# Chemical-Disease Relation (CDR) Tutorial\n",
    "\n",
    "In this example, we'll be writing an application to extract *mentions of* **chemical-induced-disease relationships** from Pubmed abstracts, as per the [BioCreative CDR Challenge](http://www.biocreative.org/resources/corpora/biocreative-v-cdr-corpus/).  This tutorial will show off some of the more advanced features of Snorkel, so we'll assume you've followed the Intro tutorial."
   ]
  },
  {
   "cell_type": "markdown",
   "metadata": {},
   "source": [
    "Let's start by reloading from the last notebook."
   ]
  },
  {
   "cell_type": "code",
   "execution_count": 1,
   "metadata": {},
   "outputs": [],
   "source": [
    "%load_ext autoreload\n",
    "%autoreload 2\n",
    "%matplotlib inline\n",
    "\n",
    "import numpy as np\n",
    "from snorkel import SnorkelSession\n",
    "\n",
    "session = SnorkelSession()"
   ]
  },
  {
   "cell_type": "code",
   "execution_count": 2,
   "metadata": {},
   "outputs": [
    {
     "name": "stdout",
     "output_type": "stream",
     "text": [
      "Training set:\t21312 candidates\n",
      "Dev set:\t2486 candidates\n",
      "Test set:\t11975 candidates\n"
     ]
    }
   ],
   "source": [
    "from snorkel.models import candidate_subclass\n",
    "\n",
    "ChemicalDisease = candidate_subclass('ChemicalDisease', ['chemical', 'disease'])\n",
    "\n",
    "train = session.query(ChemicalDisease).filter(ChemicalDisease.split == 0).all()\n",
    "dev = session.query(ChemicalDisease).filter(ChemicalDisease.split == 1).all()\n",
    "test = session.query(ChemicalDisease).filter(ChemicalDisease.split == 2).all()\n",
    "\n",
    "print('Training set:\\t{0} candidates'.format(len(train)))\n",
    "print('Dev set:\\t{0} candidates'.format(len(dev)))\n",
    "print('Test set:\\t{0} candidates'.format(len(test)))"
   ]
  },
  {
   "cell_type": "markdown",
   "metadata": {},
   "source": [
    "# Part V: Training an LSTM extraction model\n",
    "\n",
    "In the intro tutorial, we automatically featurized the candidates and trained a linear model over these features. Here, we'll train a more complicated model for relation extraction: an LSTM network. You can read more about LSTMs [here](https://en.wikipedia.org/wiki/Long_short-term_memory) or [here](http://colah.github.io/posts/2015-08-Understanding-LSTMs/). An LSTM is a type of recurrent neural network and automatically generates a numerical representation for the candidate based on the sentence text, so no need for featurizing explicitly as in the intro tutorial. LSTMs take longer to train, and Snorkel doesn't currently support hyperparameter searches for them. We'll train a single model here, but feel free to try out other parameter sets. Just make sure to use the development set - and not the test set - for model selection.\n",
    "\n",
    "**Note: Again, training for more epochs than below will greatly improve performance- try it out!**"
   ]
  },
  {
   "cell_type": "code",
   "execution_count": 3,
   "metadata": {},
   "outputs": [],
   "source": [
    "from snorkel.annotations import load_marginals\n",
    "train_marginals = load_marginals(session, split=0)"
   ]
  },
  {
   "cell_type": "code",
   "execution_count": 4,
   "metadata": {},
   "outputs": [
    {
     "name": "stdout",
     "output_type": "stream",
     "text": [
      "AnnotatorLabels created: 0\n"
     ]
    }
   ],
   "source": [
    "from snorkel.annotations import load_gold_labels\n",
    "from load_external_annotations import load_external_labels\n",
    "load_external_labels(session, ChemicalDisease, split=1, annotator='gold')\n",
    "L_gold_dev = load_gold_labels(session, annotator_name='gold', split=1)"
   ]
  },
  {
   "cell_type": "code",
   "execution_count": 5,
   "metadata": {},
   "outputs": [
    {
     "name": "stdout",
     "output_type": "stream",
     "text": [
      "[LSTM] Training model\n",
      "[LSTM] n_train=19621  #epochs=40  batch size=80\n",
      "[LSTM] Epoch 1 (63.96s)\tAverage loss=0.689270\tDev F1=36.78\n",
      "[LSTM] Epoch 40 (2301.70s)\tAverage loss=0.662494\tDev F1=49.66\n",
      "[LSTM] Model saved as <LSTM>\n",
      "[LSTM] Training done (2304.41s)\n",
      "[LSTM] Loaded model <LSTM>\n"
     ]
    }
   ],
   "source": [
    "from snorkel.learning.pytorch import LSTM\n",
    "train_kwargs = {\n",
    "    'lr':              0.001,\n",
    "    'embedding_dim':   100,\n",
    "    'hidden_dim':      100,\n",
    "    'n_epochs':        40,\n",
    "    'dropout':         0.2,\n",
    "    'rebalance':       False,\n",
    "    'print_freq':      40,\n",
    "    'seed':            1701,\n",
    "    'batch_size':      80\n",
    "}\n",
    "\n",
    "lstm = LSTM(n_threads=1)\n",
    "lstm.train(train, train_marginals, X_dev=dev, Y_dev=L_gold_dev, **train_kwargs)\n",
    "\n"
   ]
  },
  {
   "cell_type": "markdown",
   "metadata": {},
   "source": [
    "### Scoring on the test set\n",
    "\n",
    "Finally, we'll evaluate our performance on the blind test set of 500 documents. We'll load labels similar to how we did for the development set, and use the `score` function of our extraction model to see how we did. In addition, we create a `metrics` dictionary where we store the metrics of our model for each sentence length, where the keys are the number of sentences the relation spans (0 is reserved for the cumulative metrics)."
   ]
  },
  {
   "cell_type": "code",
   "execution_count": 6,
   "metadata": {},
   "outputs": [
    {
     "name": "stdout",
     "output_type": "stream",
     "text": [
      "AnnotatorLabels created: 0\n",
      "========================================\n",
      "Scores (Un-adjusted)\n",
      "========================================\n",
      "Pos. class accuracy: 0.651\n",
      "Neg. class accuracy: 0.577\n",
      "Precision            0.395\n",
      "Recall               0.651\n",
      "F1                   0.491\n",
      "----------------------------------------\n",
      "TP: 2321 | FP: 3562 | TN: 4849 | FN: 1243\n",
      "========================================\n",
      "\n",
      "{0: [2321, 3562, 4849, 1243], 1: [1184, 1647, 1529, 328], 2: [1137, 1915, 3320, 915]}\n"
     ]
    }
   ],
   "source": [
    "from load_external_annotations import load_external_labels\n",
    "load_external_labels(session, ChemicalDisease, split=2, annotator='gold')\n",
    "L_gold_test = load_gold_labels(session, annotator_name='gold', split=2)\n",
    "lstm.score(test, L_gold_test)\n",
    "tp, fp, tn, fn = lstm.error_analysis(session, test, L_gold_test, set_unlabeled_as_neg=False)\n",
    "metrics = {}\n",
    "sent_lengths = set()\n",
    "metrics[0] = [0 for _ in range(4)]\n",
    "\n",
    "for i, metric in enumerate([tp, fp, tn, fn]):\n",
    "    for sample in metric:\n",
    "        metrics[0][i] += 1 \n",
    "        cand_length = int(abs(sample.chemical.sentence.position - sample.disease.sentence.position)+1)\n",
    "        if cand_length in sent_lengths:\n",
    "            metrics[cand_length][i] += 1 \n",
    "        else:\n",
    "            metrics[cand_length] = [0 for _ in range(4)]\n",
    "            metrics[cand_length][i] += 1 \n",
    "            sent_lengths.add(cand_length)\n",
    "print(metrics)"
   ]
  }
 ],
 "metadata": {
  "anaconda-cloud": {},
  "kernelspec": {
   "display_name": "Python 3",
   "language": "python",
   "name": "python3"
  },
  "language_info": {
   "codemirror_mode": {
    "name": "ipython",
    "version": 3
   },
   "file_extension": ".py",
   "mimetype": "text/x-python",
   "name": "python",
   "nbconvert_exporter": "python",
   "pygments_lexer": "ipython3",
   "version": "3.6.5"
  }
 },
 "nbformat": 4,
 "nbformat_minor": 1
}
